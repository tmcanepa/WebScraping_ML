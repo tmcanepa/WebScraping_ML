{
 "cells": [
  {
   "cell_type": "code",
   "execution_count": 1,
   "id": "bd2eaf0e",
   "metadata": {},
   "outputs": [],
   "source": [
    "import pandas as pd\n",
    "from sklearn.ensemble import RandomForestClassifier\n",
    "from sklearn.metrics import accuracy_score\n",
    "from sklearn.metrics import precision_score"
   ]
  },
  {
   "cell_type": "code",
   "execution_count": 2,
   "id": "794293c2",
   "metadata": {},
   "outputs": [],
   "source": [
    "#reads in the csv file\n",
    "matches = pd.read_csv(\"matchesPrem(2024-2019).csv\", index_col = 0)\n",
    "\n",
    "#shows the type of each data entry\n",
    "matches.dtypes\n",
    "\n",
    "#function declaration to decide W, D, or L\n",
    "def result(WLD):\n",
    "    if WLD == 'W':\n",
    "        return 3\n",
    "    elif WLD == 'D':\n",
    "        return 1\n",
    "    else:\n",
    "        return 0\n",
    "\n"
   ]
  },
  {
   "cell_type": "code",
   "execution_count": 3,
   "id": "8f517e65",
   "metadata": {},
   "outputs": [],
   "source": [
    "#ML Base(Data Adjustment and Cleaning)\n",
    "\n",
    "\n",
    "#adjusts the type of date index\n",
    "matches[\"date\"] = pd.to_datetime(matches[\"date\"])\n",
    "\n",
    "#sets home/away to a numeric value\n",
    "matches[\"venue_code\"] = matches[\"venue\"].astype(\"category\").cat.codes\n",
    "\n",
    "#creates column with opponent as a number\n",
    "matches[\"opp_code\"] = matches[\"opponent\"].astype(\"category\").cat.codes\n",
    "\n",
    "#creates an hour column for time of day\n",
    "matches[\"hour\"] = matches[\"time\"].str.replace(\":.+\", \"\", regex = True).astype(\"int\")\n",
    "\n",
    "#gets day of week as number\n",
    "matches[\"day_code\"] = matches[\"date\"].dt.dayofweek\n",
    "\n",
    "#sets numeric value for wins losses and draws\n",
    "matches[\"target\"] = matches[\"result\"].apply(result)\n",
    "\n",
    "#sets wins to 1 and losses and draws to 0\n",
    "# matches[\"target\"] = (matches[\"result\"]=='W').astype(\"int\")\n",
    "\n"
   ]
  },
  {
   "cell_type": "code",
   "execution_count": 4,
   "id": "3aaca33c",
   "metadata": {},
   "outputs": [],
   "source": [
    "#Implementing ML Model\n",
    "\n",
    "#creates the random forst trees to be trained\n",
    "rf = RandomForestClassifier(n_estimators = 50, min_samples_split = 10, random_state = 1)\n",
    "\n",
    "#segregates data by training or testing\n",
    "train = matches[matches[\"date\"] < '2024-06-20']\n",
    "# print(train.size)\n",
    "test = matches[matches[\"date\"] > '2024-06-20']\n",
    "# print(test.size)\n",
    "\n",
    "\n",
    "#sets predictors(what it uses to predict)\n",
    "predictors = [\"venue_code\",\"opp_code\",\"hour\",\"day_code\"]\n",
    "\n",
    "#fits the RF model\n",
    "rf.fit(train[predictors], train[\"target\"])\n",
    "\n",
    "#predicts\n",
    "preds = rf.predict(test[predictors])"
   ]
  },
  {
   "cell_type": "code",
   "execution_count": 5,
   "id": "ee7cd4d7",
   "metadata": {},
   "outputs": [
    {
     "data": {
      "text/plain": [
       "0.4371069182389937"
      ]
     },
     "execution_count": 5,
     "metadata": {},
     "output_type": "execute_result"
    }
   ],
   "source": [
    "#seeing results\n",
    "\n",
    "#scores accuracy\n",
    "acc = accuracy_score(test[\"target\"], preds)\n",
    "combined = pd.DataFrame(dict(actual = test[\"target\"], prediction = preds))\n",
    "pd.crosstab(index = combined[\"actual\"], columns = combined[\"prediction\"])\n",
    "\n",
    "#accuracy of predicting a win\n",
    "precision_score(test[\"target\"], preds, average = \"micro\")\n",
    "# precision_score(test[\"target\"], preds)"
   ]
  },
  {
   "cell_type": "code",
   "execution_count": 6,
   "id": "e550fe6a",
   "metadata": {},
   "outputs": [],
   "source": [
    "#implementing rolling averages\n",
    "\n",
    "#groups matches together by team\n",
    "grouped_matches = matches.groupby(\"team\")\n",
    "group = grouped_matches.get_group(\"Manchester City\")\n",
    "\n",
    "#function to get the average of last 3 matches\n",
    "def rolling_averages(group, cols, new_cols):\n",
    "    group = group.sort_values(\"date\")\n",
    "    rolling_stats = group[cols].rolling(3, closed = 'left').mean()\n",
    "    group[new_cols] = rolling_stats\n",
    "    group = group.dropna(subset = new_cols)\n",
    "    return group\n",
    "\n",
    "#groups to be calculated tolling averages for\n",
    "cols = [\"gf\", \"ga\", \"sh\", \"sot\", \"dist\", \"fk\", \"pk\", \"pkatt\"]\n",
    "new_cols = [f\"rolling_{c}\" for c in cols]\n",
    "# print(matches_rolling,predictors+new_cols)\n",
    "\n",
    "#applies rolling to every match\n",
    "matches_rolling = matches.groupby(\"team\").apply(lambda x:rolling_averages(x, cols, new_cols))\n",
    "\n",
    "#drops the extra extra column for team name\n",
    "matches_rolling = matches_rolling.droplevel(\"team\")\n",
    "\n",
    "#makes every match its own index rather than start over for each team\n",
    "matches_rolling.index = range(matches_rolling.shape[0])\n"
   ]
  },
  {
   "cell_type": "code",
   "execution_count": null,
   "id": "ddbae980",
   "metadata": {},
   "outputs": [],
   "source": [
    "#Predictions 2.0 for W, D/L\n",
    "\n",
    "def make_predictions(data, predictors):\n",
    "    train = data[data[\"date\"] < '2024-06-20']\n",
    "    test = data[data[\"date\"] > '2024-06-20']\n",
    "    rf.fit(train[predictors], train[\"target\"])\n",
    "    preds = rf.predict(test[predictors])\n",
    "    combined = pd.DataFrame(dict(actual = test[\"target\"], predicted = preds), index = test.index)\n",
    "    precision = precision_score(test[\"target\"], preds)\n",
    "    return combined, precision\n",
    "\n",
    "combined, precision = make_predictions(matches_rolling, predictors + new_cols)\n",
    "\n",
    "combined = combined.merge(matches_rolling[[\"date\", \"team\", \"opponent\", \"result\"]], left_index = True, right_index = True)\n",
    "precision"
   ]
  },
  {
   "cell_type": "code",
   "execution_count": 7,
   "id": "3f1dafa9",
   "metadata": {},
   "outputs": [
    {
     "data": {
      "text/plain": [
       "0.45396825396825397"
      ]
     },
     "execution_count": 7,
     "metadata": {},
     "output_type": "execute_result"
    }
   ],
   "source": [
    "#Predictions 3.0 for W, L, D\n",
    "\n",
    "def make_predictions(data, predictors):\n",
    "    train = data[data[\"date\"] < '2024-06-20']\n",
    "    test = data[data[\"date\"] > '2024-06-20']\n",
    "    rf.fit(train[predictors], train[\"target\"])\n",
    "    preds = rf.predict(test[predictors])\n",
    "    combined = pd.DataFrame(dict(actual = test[\"target\"], predicted = preds), index = test.index)\n",
    "    precision = precision_score(test[\"target\"], preds, average = \"micro\")\n",
    "    return combined, precision\n",
    "\n",
    "combined, precision = make_predictions(matches_rolling, predictors + new_cols)\n",
    "\n",
    "combined = combined.merge(matches_rolling[[\"date\", \"team\", \"opponent\", \"result\"]], left_index = True, right_index = True)\n",
    "precision"
   ]
  },
  {
   "cell_type": "code",
   "execution_count": 8,
   "id": "08b434f0",
   "metadata": {},
   "outputs": [],
   "source": [
    "#combining both sides of a match\n",
    "class MissingDict(dict):\n",
    "    __missing__ = lambda self, key: key\n",
    "    \n",
    "map_vals = {\n",
    "    \"Brighton and Hove Albion\": \"Brighton\", \n",
    "    \"Manchester United\": \"Manchester Utd\", \n",
    "    \"Newcastle United\": \"Newcastle Utd\", \n",
    "    \"Tottenham Hotspur\": \"Tottenham\", \n",
    "    \"West Ham United\": \"West Ham\", \n",
    "    \"Wolverhampton Wanderers\": \"Wolves\"\n",
    "}\n",
    "mapping = MissingDict(**map_vals)\n",
    "\n",
    "combined[\"new_team\"] = combined[\"team\"].map(mapping)\n",
    "\n",
    "merged = combined.merge(combined, left_on = [\"date\", \"new_team\"], right_on= [\"date\", \"opponent\"])\n",
    "merged\n",
    "#merged[(merged[\"predicted_x\"] == 3) & (merged[\"predicted_y\"] == 0)][\"actual_x\"].value_counts()\n",
    "#merged[(merged[\"predicted_x\"] == 1) & (merged[\"predicted_y\"] == 1)].value_counts()\n",
    "#merged[(merged[\"predicted_x\"] == 1) & (merged[\"predicted_y\"] == 0)][\"actual_x\"].value_counts()\n",
    "#merged[(merged[\"predicted_x\"] == 0) & (merged[\"predicted_y\"] == 3)][\"actual_x\"].value_counts()\n",
    "merge_df = merged\n",
    "\n",
    "merge_df.to_csv(\"test.csv\")"
   ]
  }
 ],
 "metadata": {
  "kernelspec": {
   "display_name": "Python 3 (ipykernel)",
   "language": "python",
   "name": "python3"
  },
  "language_info": {
   "codemirror_mode": {
    "name": "ipython",
    "version": 3
   },
   "file_extension": ".py",
   "mimetype": "text/x-python",
   "name": "python",
   "nbconvert_exporter": "python",
   "pygments_lexer": "ipython3",
   "version": "3.9.12"
  }
 },
 "nbformat": 4,
 "nbformat_minor": 5
}
